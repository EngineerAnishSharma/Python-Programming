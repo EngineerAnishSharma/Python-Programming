{
 "cells": [
  {
   "cell_type": "markdown",
   "id": "47280fbd",
   "metadata": {},
   "source": [
    "1.\tWrite a Python program to select an item randomly from a list.\n",
    "2.\tWrite a Python program to count the elements in a list until an element is a tuple\n",
    "3.\tCreate a dictionary of 5 countries with their currency details and display them.\n",
    "4.\tWrite a Python program to reverse a tuple.\n",
    "5.\tCreate a Numpy array filled with all ones\n",
    "6.\tCheck whether a Numpy array contains a specified row\n",
    "7.\tCompute mathematical operations on Array, Add & Multiply two matrices\n",
    "8.\tFind the most frequent value in a NumPy array\n",
    "9.\tFlatten a 2d numpy array into ld array\n",
    "10.\tCalculate the sum of all columns in a 2D NumPy array\n",
    "11.\tCalculate the average, variance and standard deviation in Python using NumPy\n",
    "12.\tInsert a space between characters of all the elements of a given NumPy array?\n",
    "13.\tSort the values in a matrix\n",
    "\n",
    "### ANISH SHARMA\n",
    "### I011\n",
    "### 60003220045"
   ]
  },
  {
   "cell_type": "code",
   "execution_count": 10,
   "id": "a78cd724",
   "metadata": {},
   "outputs": [
    {
     "data": {
      "text/plain": [
       "[1, 2, 3, 4, 5]"
      ]
     },
     "execution_count": 10,
     "metadata": {},
     "output_type": "execute_result"
    }
   ],
   "source": [
    "lst = [1,2,3,4,5]\n",
    "lst"
   ]
  },
  {
   "cell_type": "code",
   "execution_count": 11,
   "id": "c9628275",
   "metadata": {},
   "outputs": [],
   "source": [
    "import random as r"
   ]
  },
  {
   "cell_type": "code",
   "execution_count": 14,
   "id": "cf425856",
   "metadata": {},
   "outputs": [
    {
     "data": {
      "text/plain": [
       "5"
      ]
     },
     "execution_count": 14,
     "metadata": {},
     "output_type": "execute_result"
    }
   ],
   "source": [
    "r.choice(lst)"
   ]
  },
  {
   "cell_type": "code",
   "execution_count": 15,
   "id": "10804fef",
   "metadata": {},
   "outputs": [
    {
     "data": {
      "text/plain": [
       "{'India': 'Rupees',\n",
       " 'USA': 'Dollar',\n",
       " 'Afghanistan': 'Afghani',\n",
       " 'Andorra': 'Euro',\n",
       " 'Albania': 'Dinar'}"
      ]
     },
     "execution_count": 15,
     "metadata": {},
     "output_type": "execute_result"
    }
   ],
   "source": [
    "dict={\n",
    "    \"India\":\"Rupees\",\n",
    "    \"USA\":\"Dollar\",\n",
    "    \"Afghanistan\":\"Afghani\",\n",
    "    \"Andorra\":\"Euro\",\n",
    "    \"Albania\":\"Dinar\"\n",
    "}\n",
    "dict"
   ]
  },
  {
   "cell_type": "code",
   "execution_count": 16,
   "id": "f4fef8f3",
   "metadata": {},
   "outputs": [
    {
     "data": {
      "text/plain": [
       "(5, 4, 3, 2, 1)"
      ]
     },
     "execution_count": 16,
     "metadata": {},
     "output_type": "execute_result"
    }
   ],
   "source": [
    "t = (1,2,3,4,5)\n",
    "t[::-1]"
   ]
  },
  {
   "cell_type": "code",
   "execution_count": 17,
   "id": "ed9d9353",
   "metadata": {},
   "outputs": [],
   "source": [
    "import numpy as np"
   ]
  },
  {
   "cell_type": "code",
   "execution_count": 20,
   "id": "0ab72e2a",
   "metadata": {},
   "outputs": [],
   "source": [
    "arr = np.ones(5,int)"
   ]
  },
  {
   "cell_type": "code",
   "execution_count": 21,
   "id": "2dfc4bc1",
   "metadata": {},
   "outputs": [
    {
     "data": {
      "text/plain": [
       "array([1, 1, 1, 1, 1])"
      ]
     },
     "execution_count": 21,
     "metadata": {},
     "output_type": "execute_result"
    }
   ],
   "source": [
    "arr"
   ]
  },
  {
   "cell_type": "code",
   "execution_count": 28,
   "id": "a71d9024",
   "metadata": {},
   "outputs": [],
   "source": [
    "m1 = np.array(\n",
    "    [\n",
    "        [1,2,3],\n",
    "        [4,5,6],\n",
    "        [7,8,9]\n",
    "    ]\n",
    ")\n",
    "m2= np.array(\n",
    "    [\n",
    "        [1,2,3],\n",
    "        [4,5,6],\n",
    "        [7,8,9]\n",
    "    ]\n",
    ")"
   ]
  },
  {
   "cell_type": "code",
   "execution_count": 29,
   "id": "444166f8",
   "metadata": {},
   "outputs": [
    {
     "data": {
      "text/plain": [
       "array([[ 2,  4,  6],\n",
       "       [ 8, 10, 12],\n",
       "       [14, 16, 18]])"
      ]
     },
     "execution_count": 29,
     "metadata": {},
     "output_type": "execute_result"
    }
   ],
   "source": [
    "m1+m2"
   ]
  },
  {
   "cell_type": "code",
   "execution_count": 30,
   "id": "d3ad611c",
   "metadata": {},
   "outputs": [
    {
     "data": {
      "text/plain": [
       "array([[ 1,  4,  9],\n",
       "       [16, 25, 36],\n",
       "       [49, 64, 81]])"
      ]
     },
     "execution_count": 30,
     "metadata": {},
     "output_type": "execute_result"
    }
   ],
   "source": [
    "m1*m2"
   ]
  },
  {
   "cell_type": "code",
   "execution_count": 32,
   "id": "744e2a57",
   "metadata": {},
   "outputs": [
    {
     "data": {
      "text/plain": [
       "array([1, 2, 3, 4, 5, 6, 7, 8, 9])"
      ]
     },
     "execution_count": 32,
     "metadata": {},
     "output_type": "execute_result"
    }
   ],
   "source": [
    "m1.flatten()"
   ]
  },
  {
   "cell_type": "code",
   "execution_count": 33,
   "id": "4af252e8",
   "metadata": {},
   "outputs": [
    {
     "data": {
      "text/plain": [
       "45"
      ]
     },
     "execution_count": 33,
     "metadata": {},
     "output_type": "execute_result"
    }
   ],
   "source": [
    "m1.sum()"
   ]
  },
  {
   "cell_type": "code",
   "execution_count": 43,
   "id": "a10d7a3b",
   "metadata": {},
   "outputs": [
    {
     "data": {
      "text/plain": [
       "3.0"
      ]
     },
     "execution_count": 43,
     "metadata": {},
     "output_type": "execute_result"
    }
   ],
   "source": [
    "arr = np.array([1,2,3,4,5],int)\n",
    "np.average(arr)"
   ]
  },
  {
   "cell_type": "code",
   "execution_count": 45,
   "id": "c8cb4443",
   "metadata": {},
   "outputs": [
    {
     "data": {
      "text/plain": [
       "1.4142135623730951"
      ]
     },
     "execution_count": 45,
     "metadata": {},
     "output_type": "execute_result"
    }
   ],
   "source": [
    "np.std(arr)"
   ]
  },
  {
   "cell_type": "code",
   "execution_count": 46,
   "id": "f934f908",
   "metadata": {},
   "outputs": [
    {
     "data": {
      "text/plain": [
       "2.0"
      ]
     },
     "execution_count": 46,
     "metadata": {},
     "output_type": "execute_result"
    }
   ],
   "source": [
    "np.var(arr)"
   ]
  },
  {
   "cell_type": "code",
   "execution_count": 48,
   "id": "f91e32fa",
   "metadata": {},
   "outputs": [],
   "source": [
    "x = np.array([\"geeks\", \"for\", \"geeks\"])"
   ]
  },
  {
   "cell_type": "code",
   "execution_count": 49,
   "id": "ac956a23",
   "metadata": {},
   "outputs": [
    {
     "data": {
      "text/plain": [
       "array(['g e e k s', 'f o r', 'g e e k s'], dtype='<U9')"
      ]
     },
     "execution_count": 49,
     "metadata": {},
     "output_type": "execute_result"
    }
   ],
   "source": [
    "r = np.char.join(\" \", x)\n",
    "r"
   ]
  },
  {
   "cell_type": "code",
   "execution_count": 53,
   "id": "4f48d6f5",
   "metadata": {},
   "outputs": [
    {
     "data": {
      "text/plain": [
       "array([[1, 2, 3],\n",
       "       [4, 5, 6],\n",
       "       [7, 8, 9]])"
      ]
     },
     "execution_count": 53,
     "metadata": {},
     "output_type": "execute_result"
    }
   ],
   "source": [
    "np.sort(m2)"
   ]
  },
  {
   "cell_type": "code",
   "execution_count": 55,
   "id": "764a7097",
   "metadata": {},
   "outputs": [],
   "source": [
    "arr = np.array([[1, 2, 3, 4, 5], \n",
    "                   [6, 7, 8, 9, 10], \n",
    "                   [11, 12, 13, 14, 15], \n",
    "                   [16, 17, 18, 19, 20] \n",
    "                   ]) "
   ]
  },
  {
   "cell_type": "code",
   "execution_count": 56,
   "id": "faa0c5d7",
   "metadata": {},
   "outputs": [
    {
     "name": "stdout",
     "output_type": "stream",
     "text": [
      "True\n"
     ]
    }
   ],
   "source": [
    "print([1, 2, 3, 4, 5] in arr.tolist()) "
   ]
  },
  {
   "cell_type": "code",
   "execution_count": 57,
   "id": "2ad5498f",
   "metadata": {},
   "outputs": [
    {
     "name": "stdout",
     "output_type": "stream",
     "text": [
      "False\n"
     ]
    }
   ],
   "source": [
    "print([1, 2,5 , 3, 4, 5] in arr.tolist()) "
   ]
  },
  {
   "cell_type": "code",
   "execution_count": 58,
   "id": "8861609a",
   "metadata": {},
   "outputs": [
    {
     "name": "stdout",
     "output_type": "stream",
     "text": [
      "1\n"
     ]
    }
   ],
   "source": [
    "x = np.array([1,2,3,4,5,1,2,1,1,1]) \n",
    "print(np.bincount(x).argmax())"
   ]
  },
  {
   "cell_type": "code",
   "execution_count": 61,
   "id": "e38155fa",
   "metadata": {},
   "outputs": [
    {
     "ename": "TypeError",
     "evalue": "tuple expected at most 1 argument, got 3",
     "output_type": "error",
     "traceback": [
      "\u001b[1;31m---------------------------------------------------------------------------\u001b[0m",
      "\u001b[1;31mTypeError\u001b[0m                                 Traceback (most recent call last)",
      "\u001b[1;32m<ipython-input-61-02d7a42561ab>\u001b[0m in \u001b[0;36m<module>\u001b[1;34m\u001b[0m\n\u001b[1;32m----> 1\u001b[1;33m \u001b[0ma\u001b[0m \u001b[1;33m=\u001b[0m \u001b[1;33m[\u001b[0m\u001b[1;33m[\u001b[0m\u001b[1;36m1\u001b[0m\u001b[1;33m,\u001b[0m\u001b[1;36m2\u001b[0m\u001b[1;33m,\u001b[0m\u001b[1;36m3\u001b[0m\u001b[1;33m]\u001b[0m\u001b[1;33m,\u001b[0m\u001b[1;33m[\u001b[0m\u001b[1;36m4\u001b[0m\u001b[1;33m,\u001b[0m\u001b[1;36m5\u001b[0m\u001b[1;33m,\u001b[0m\u001b[1;36m6\u001b[0m\u001b[1;33m]\u001b[0m\u001b[1;33m,\u001b[0m\u001b[0mtuple\u001b[0m\u001b[1;33m(\u001b[0m\u001b[1;36m7\u001b[0m\u001b[1;33m,\u001b[0m\u001b[1;36m8\u001b[0m\u001b[1;33m,\u001b[0m\u001b[1;36m9\u001b[0m\u001b[1;33m)\u001b[0m\u001b[1;33m]\u001b[0m\u001b[1;33m\u001b[0m\u001b[1;33m\u001b[0m\u001b[0m\n\u001b[0m",
      "\u001b[1;31mTypeError\u001b[0m: tuple expected at most 1 argument, got 3"
     ]
    }
   ],
   "source": [
    "a = [[1,2,3],[4,5,6],tuple(7,8,9)]"
   ]
  },
  {
   "cell_type": "code",
   "execution_count": 60,
   "id": "09df2ad4",
   "metadata": {},
   "outputs": [
    {
     "name": "stdout",
     "output_type": "stream",
     "text": [
      "[1, 2, 3]\n",
      "[4, 5, 6]\n",
      "(7, 8, 9)\n"
     ]
    }
   ],
   "source": [
    "for i in a:\n",
    "    if a is not tuple:\n",
    "        print(i)"
   ]
  },
  {
   "cell_type": "code",
   "execution_count": 63,
   "id": "6e1c34dc",
   "metadata": {},
   "outputs": [
    {
     "name": "stdout",
     "output_type": "stream",
     "text": [
      "4\n",
      "5\n",
      "6\n",
      "10\n",
      "4\n"
     ]
    }
   ],
   "source": [
    "def Count(li):\n",
    "   \n",
    "    for num in li:\n",
    "        if isinstance(num, tuple):\n",
    "            break\n",
    "       \n",
    "        print(num)\n",
    " \n",
    "li = [4, 5, 6, 10, (1, 2, 3), 11, 2, 4]\n"
   ]
  },
  {
   "cell_type": "code",
   "execution_count": null,
   "id": "369c18ee",
   "metadata": {},
   "outputs": [],
   "source": []
  }
 ],
 "metadata": {
  "kernelspec": {
   "display_name": "Python 3",
   "language": "python",
   "name": "python3"
  },
  "language_info": {
   "codemirror_mode": {
    "name": "ipython",
    "version": 3
   },
   "file_extension": ".py",
   "mimetype": "text/x-python",
   "name": "python",
   "nbconvert_exporter": "python",
   "pygments_lexer": "ipython3",
   "version": "3.8.8"
  }
 },
 "nbformat": 4,
 "nbformat_minor": 5
}
