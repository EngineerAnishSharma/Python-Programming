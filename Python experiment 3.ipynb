{
 "cells": [
  {
   "cell_type": "markdown",
   "id": "f94afc1b",
   "metadata": {},
   "source": [
    "## Anish Sharma\n",
    "## 60003220045"
   ]
  },
  {
   "cell_type": "code",
   "execution_count": null,
   "id": "f3a0c6ba",
   "metadata": {},
   "outputs": [],
   "source": []
  },
  {
   "cell_type": "code",
   "execution_count": 2,
   "id": "f8a52e2b",
   "metadata": {},
   "outputs": [
    {
     "name": "stdout",
     "output_type": "stream",
     "text": [
      "1 2 3 4\n"
     ]
    }
   ],
   "source": [
    "x1,x2,y1,y2 = map(int,input().split())"
   ]
  },
  {
   "cell_type": "code",
   "execution_count": 3,
   "id": "bc723c51",
   "metadata": {},
   "outputs": [
    {
     "name": "stdout",
     "output_type": "stream",
     "text": [
      "Postive slope\n"
     ]
    }
   ],
   "source": [
    "if x2-x1==0:\n",
    "    print(\"Vertical line\")\n",
    "elif (y2-y1)/(x2-x1)>0:\n",
    "    print(\"Postive slope\")\n",
    "elif (y2-y1)/(x2-x1)<0:\n",
    "    print(\"Negative slope\")\n",
    "else:\n",
    "    print(\"Horizontal line\")"
   ]
  },
  {
   "cell_type": "code",
   "execution_count": 4,
   "id": "2ec42df2",
   "metadata": {},
   "outputs": [
    {
     "name": "stdout",
     "output_type": "stream",
     "text": [
      "Celcius Fahrenheit\n",
      "10       50.0\n",
      "11       51.8\n",
      "12       53.6\n",
      "13       55.400000000000006\n",
      "14       57.2\n",
      "15       59.0\n",
      "16       60.8\n",
      "17       62.6\n",
      "18       64.4\n",
      "19       66.2\n",
      "20       68.0\n"
     ]
    }
   ],
   "source": [
    "print(\"Celcius Fahrenheit\")\n",
    "for i in range(10,21):\n",
    "    print(i,\"     \",(9/5)*i+32)"
   ]
  },
  {
   "cell_type": "code",
   "execution_count": 5,
   "id": "dccb7697",
   "metadata": {},
   "outputs": [
    {
     "data": {
      "text/plain": [
       "[[11, 1], [7, 2], [12, 2], [14, 2], [13, 4]]"
      ]
     },
     "execution_count": 5,
     "metadata": {},
     "output_type": "execute_result"
    }
   ],
   "source": [
    "lst =[13,12,11,13,14,13,7,7,13,14,12]\n",
    "unique = set(lst)\n",
    "d={}\n",
    "temp=[]\n",
    "for i in unique:\n",
    "    r=0\n",
    "    for j in lst:\n",
    "        if i==j:\n",
    "            r+=1\n",
    "    temp.append([i,r])\n",
    "\n",
    "temp\n",
    "def sortSecond(val): \n",
    "    return val[1] \n",
    "temp.sort(key=sortSecond)  \n",
    "temp"
   ]
  },
  {
   "cell_type": "code",
   "execution_count": 7,
   "id": "04214593",
   "metadata": {},
   "outputs": [
    {
     "data": {
      "text/plain": [
       "[[13, 4], [7, 2], [12, 2], [14, 2], [11, 1]]"
      ]
     },
     "execution_count": 7,
     "metadata": {},
     "output_type": "execute_result"
    }
   ],
   "source": [
    "temp.sort(key=sortSecond, reverse=True) \n",
    "temp"
   ]
  },
  {
   "cell_type": "code",
   "execution_count": null,
   "id": "9d2d7882",
   "metadata": {},
   "outputs": [],
   "source": []
  },
  {
   "cell_type": "code",
   "execution_count": 18,
   "id": "78f5bc64",
   "metadata": {},
   "outputs": [
    {
     "name": "stdout",
     "output_type": "stream",
     "text": [
      "Prime\n"
     ]
    }
   ],
   "source": [
    "n=5\n",
    "flag=0\n",
    "if n==1 or n==0:\n",
    "    print(\"Not a prime\")\n",
    "elif n==2:\n",
    "    print(\"Prime\")\n",
    "else:\n",
    "    for i in range(2,n):\n",
    "        if n%i==0:\n",
    "            flag=1\n",
    "            break\n",
    "if flag==1:\n",
    "    print(\"Not prime\")\n",
    "else:\n",
    "    print(\"Prime\")"
   ]
  },
  {
   "cell_type": "code",
   "execution_count": 15,
   "id": "9c528cc4",
   "metadata": {},
   "outputs": [],
   "source": []
  },
  {
   "cell_type": "code",
   "execution_count": 19,
   "id": "2d3f49ab",
   "metadata": {},
   "outputs": [
    {
     "name": "stdout",
     "output_type": "stream",
     "text": [
      "Not prime\n"
     ]
    }
   ],
   "source": [
    "flag=0\n",
    "n=90\n",
    "if n==1 or n==0:\n",
    "    print(\"Not a prime\")\n",
    "elif n==2:\n",
    "    print(\"Prime\")\n",
    "else:\n",
    "    for i in range(2,n):\n",
    "        if n%i==0:\n",
    "            flag=1\n",
    "            break\n",
    "if flag==1:\n",
    "    print(\"Not prime\")\n",
    "else:\n",
    "    print(\"Prime\")"
   ]
  },
  {
   "cell_type": "code",
   "execution_count": 22,
   "id": "ca870d90",
   "metadata": {},
   "outputs": [
    {
     "name": "stdout",
     "output_type": "stream",
     "text": [
      "120\n"
     ]
    }
   ],
   "source": [
    "def fact(n):\n",
    "    if n==1:\n",
    "        return 1\n",
    "    else:\n",
    "        return n*fact(n-1)\n",
    "print(fact(5))"
   ]
  },
  {
   "cell_type": "code",
   "execution_count": 24,
   "id": "023030b0",
   "metadata": {},
   "outputs": [
    {
     "data": {
      "text/plain": [
       "120"
      ]
     },
     "execution_count": 24,
     "metadata": {},
     "output_type": "execute_result"
    }
   ],
   "source": [
    "n=5\n",
    "fact=1\n",
    "for i in range(1,6):\n",
    "    fact = fact*i\n",
    "fact"
   ]
  },
  {
   "cell_type": "code",
   "execution_count": 29,
   "id": "31edb66a",
   "metadata": {},
   "outputs": [
    {
     "name": "stdout",
     "output_type": "stream",
     "text": [
      "[2, 4, 6, 8, 10]\n"
     ]
    }
   ],
   "source": [
    "lst = [1,2,3,4,5,6,7,8,9,10]\n",
    "\n",
    "result = filter(lambda x: x % 2== 0, lst)\n",
    "print(list(result))"
   ]
  },
  {
   "cell_type": "code",
   "execution_count": 30,
   "id": "bb424780",
   "metadata": {},
   "outputs": [
    {
     "name": "stdout",
     "output_type": "stream",
     "text": [
      "[False, True, False, True, False, True, False, True, False, True]\n"
     ]
    }
   ],
   "source": [
    "lst = [1,2,3,4,5,6,7,8,9,10]\n",
    "\n",
    "result = map(lambda x: x % 2== 0, lst)\n",
    "print(list(result))"
   ]
  },
  {
   "cell_type": "code",
   "execution_count": 31,
   "id": "3cf040a0",
   "metadata": {},
   "outputs": [
    {
     "name": "stdout",
     "output_type": "stream",
     "text": [
      "[False, True, False, True]\n"
     ]
    }
   ],
   "source": [
    "def check(n):\n",
    "    return n%2==0\n",
    "numbers = [1, 2, 3, 4]\n",
    "result = map(check, numbers)\n",
    "print(list(result))"
   ]
  },
  {
   "cell_type": "code",
   "execution_count": null,
   "id": "77a19372",
   "metadata": {},
   "outputs": [],
   "source": []
  }
 ],
 "metadata": {
  "kernelspec": {
   "display_name": "Python 3",
   "language": "python",
   "name": "python3"
  },
  "language_info": {
   "codemirror_mode": {
    "name": "ipython",
    "version": 3
   },
   "file_extension": ".py",
   "mimetype": "text/x-python",
   "name": "python",
   "nbconvert_exporter": "python",
   "pygments_lexer": "ipython3",
   "version": "3.8.8"
  }
 },
 "nbformat": 4,
 "nbformat_minor": 5
}
