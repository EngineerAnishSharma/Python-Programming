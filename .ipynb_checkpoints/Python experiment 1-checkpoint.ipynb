{
 "cells": [
  {
   "cell_type": "markdown",
   "id": "d8432f07",
   "metadata": {},
   "source": [
    "## Name: Anish Sharma\n",
    "##  SAP ID: 60003220045\n",
    "## Roll no: I011\n",
    "## Experiment no: 1\n",
    "## IT1"
   ]
  },
  {
   "cell_type": "markdown",
   "id": "6f54c306",
   "metadata": {},
   "source": [
    "1. Write a python program to take the input from the user for the first name and last name and concatenate both the strings. Also add comments to the program"
   ]
  },
  {
   "cell_type": "code",
   "execution_count": 1,
   "id": "850afd2e",
   "metadata": {
    "scrolled": true
   },
   "outputs": [
    {
     "name": "stdout",
     "output_type": "stream",
     "text": [
      "ENter first name:Anish\n",
      "Enter last name:Sharma\n"
     ]
    }
   ],
   "source": [
    "\n",
    "first = input(\"ENter first name:\")\n",
    "last = input(\"Enter last name:\")"
   ]
  },
  {
   "cell_type": "code",
   "execution_count": 3,
   "id": "a8938a96",
   "metadata": {},
   "outputs": [
    {
     "data": {
      "text/plain": [
       "'AnishSharma'"
      ]
     },
     "execution_count": 3,
     "metadata": {},
     "output_type": "execute_result"
    }
   ],
   "source": [
    "full_name =first+last\n",
    "full_name"
   ]
  },
  {
   "cell_type": "markdown",
   "id": "3603d3ed",
   "metadata": {},
   "source": [
    "2. Write a program to evaluate the polynomial shown here:\n",
    "\n",
    "3x3 - 5x2 + 6 for x = 2.55"
   ]
  },
  {
   "cell_type": "code",
   "execution_count": 4,
   "id": "6c931d39",
   "metadata": {},
   "outputs": [
    {
     "data": {
      "text/plain": [
       "23.231625"
      ]
     },
     "execution_count": 4,
     "metadata": {},
     "output_type": "execute_result"
    }
   ],
   "source": [
    "3*pow(2.55,3)-5*pow(2.55,2)+6"
   ]
  },
  {
   "cell_type": "markdown",
   "id": "b5855ba0",
   "metadata": {},
   "source": [
    "3. Write a program to output middle three characters of an input string."
   ]
  },
  {
   "cell_type": "code",
   "execution_count": 6,
   "id": "ba835095",
   "metadata": {},
   "outputs": [
    {
     "name": "stdout",
     "output_type": "stream",
     "text": [
      "String:Anish\n"
     ]
    }
   ],
   "source": [
    "x=input(\"String:\")"
   ]
  },
  {
   "cell_type": "code",
   "execution_count": 8,
   "id": "216193e0",
   "metadata": {},
   "outputs": [
    {
     "name": "stdout",
     "output_type": "stream",
     "text": [
      "nis\n"
     ]
    }
   ],
   "source": [
    "mid=len(x)//2\n",
    "print(x[mid-1:mid+2])"
   ]
  },
  {
   "cell_type": "markdown",
   "id": "b21f9a8f",
   "metadata": {},
   "source": [
    "4. Arrange string characters such that lowercase letters should come first.\n",
    "\n",
    "For example: str1=’PyTHon” then output should be “yonPTH”"
   ]
  },
  {
   "cell_type": "code",
   "execution_count": 28,
   "id": "523cf1d1",
   "metadata": {},
   "outputs": [
    {
     "name": "stdout",
     "output_type": "stream",
     "text": [
      "yonPTH\n"
     ]
    }
   ],
   "source": [
    "\n",
    "str1='PyTHon'\n",
    "y=\"\"\n",
    "for i in str1:\n",
    "    x=i\n",
    "    if x.islower():\n",
    "        y+=x\n",
    "        \n",
    "for i in str1:\n",
    "    x=i\n",
    "    if x.isupper():\n",
    "        y+=x\n",
    "print(y)"
   ]
  },
  {
   "cell_type": "markdown",
   "id": "c2a73227",
   "metadata": {},
   "source": [
    "5. Count all letters, digits, and special symbols from a given string."
   ]
  },
  {
   "cell_type": "code",
   "execution_count": 30,
   "id": "f6fcef4f",
   "metadata": {},
   "outputs": [],
   "source": [
    "s = \"Anish@123\"\n",
    "digit=0\n",
    "alpha=0\n",
    "special=0\n",
    "for i in s:\n",
    "    if i.isdigit():\n",
    "        digit+=1\n",
    "    elif i.isalpha():\n",
    "        alpha+=1\n",
    "    else:\n",
    "        special+=1\n",
    "        "
   ]
  },
  {
   "cell_type": "code",
   "execution_count": 31,
   "id": "cc08ce83",
   "metadata": {},
   "outputs": [
    {
     "data": {
      "text/plain": [
       "3"
      ]
     },
     "execution_count": 31,
     "metadata": {},
     "output_type": "execute_result"
    }
   ],
   "source": [
    "digit"
   ]
  },
  {
   "cell_type": "code",
   "execution_count": 32,
   "id": "cde4b79b",
   "metadata": {},
   "outputs": [
    {
     "data": {
      "text/plain": [
       "1"
      ]
     },
     "execution_count": 32,
     "metadata": {},
     "output_type": "execute_result"
    }
   ],
   "source": [
    "special"
   ]
  },
  {
   "cell_type": "code",
   "execution_count": 33,
   "id": "e3a4d206",
   "metadata": {},
   "outputs": [
    {
     "data": {
      "text/plain": [
       "5"
      ]
     },
     "execution_count": 33,
     "metadata": {},
     "output_type": "execute_result"
    }
   ],
   "source": [
    "alpha"
   ]
  },
  {
   "cell_type": "markdown",
   "id": "f99d258a",
   "metadata": {},
   "source": [
    "6. Write a program to count occurrences of all characters within a string."
   ]
  },
  {
   "cell_type": "code",
   "execution_count": 34,
   "id": "cc594415",
   "metadata": {},
   "outputs": [],
   "source": [
    "s = \"aaababcccddac\""
   ]
  },
  {
   "cell_type": "code",
   "execution_count": 37,
   "id": "3abbf6b7",
   "metadata": {},
   "outputs": [
    {
     "data": {
      "text/plain": [
       "{'a', 'b', 'c', 'd'}"
      ]
     },
     "execution_count": 37,
     "metadata": {},
     "output_type": "execute_result"
    }
   ],
   "source": [
    "unique = set(s)\n",
    "unique\n",
    "\n",
    "        "
   ]
  },
  {
   "cell_type": "code",
   "execution_count": 41,
   "id": "82e05890",
   "metadata": {},
   "outputs": [
    {
     "name": "stdout",
     "output_type": "stream",
     "text": [
      "occurrence of  d  is  2\n",
      "occurrence of  c  is  4\n",
      "occurrence of  b  is  2\n",
      "occurrence of  a  is  5\n"
     ]
    }
   ],
   "source": [
    "for i in unique:\n",
    "    ctr=0\n",
    "    for j in s:\n",
    "        if i==j:\n",
    "            ctr+=1\n",
    "    print(\"occurrence of \",i,\" is \",ctr)"
   ]
  },
  {
   "cell_type": "markdown",
   "id": "03026c74",
   "metadata": {},
   "source": [
    "7. Write a program to find the last position of a substring “Rama” in a given string\n",
    "\n",
    "For e.g. \"Mary always stood first in class. Mary now works at Google.\"\n",
    "\n",
    "The expected outcome is “The last position of Mary starts at index 34”"
   ]
  },
  {
   "cell_type": "code",
   "execution_count": 43,
   "id": "1fb9a374",
   "metadata": {},
   "outputs": [
    {
     "data": {
      "text/plain": [
       "34"
      ]
     },
     "execution_count": 43,
     "metadata": {},
     "output_type": "execute_result"
    }
   ],
   "source": [
    "s=\"Mary always stood first in class. Mary now works at Google.\"\n",
    "s.rfind('Mary')"
   ]
  },
  {
   "cell_type": "markdown",
   "id": "451e8995",
   "metadata": {},
   "source": [
    "8. Removal all characters from a string except integers"
   ]
  },
  {
   "cell_type": "code",
   "execution_count": 46,
   "id": "7593d5e3",
   "metadata": {},
   "outputs": [
    {
     "data": {
      "text/plain": [
       "'67123456'"
      ]
     },
     "execution_count": 46,
     "metadata": {},
     "output_type": "execute_result"
    }
   ],
   "source": [
    "s = 'Anis67h123456'\n",
    "x=''\n",
    "for i in s:\n",
    "    if i.isdigit():\n",
    "        x+=i\n",
    "s=x\n",
    "s"
   ]
  },
  {
   "cell_type": "markdown",
   "id": "c479e356",
   "metadata": {},
   "source": [
    "9.Replace each special symbol with # in the following string:\n",
    "\n",
    "I/p string:Mary @always &stood firl̥st in %class\n",
    "\n",
    "O/P String: Mary #always #stood first in #class"
   ]
  },
  {
   "cell_type": "code",
   "execution_count": 58,
   "id": "f6508926",
   "metadata": {},
   "outputs": [],
   "source": [
    "import string"
   ]
  },
  {
   "cell_type": "code",
   "execution_count": 59,
   "id": "b266feb7",
   "metadata": {},
   "outputs": [
    {
     "name": "stdout",
     "output_type": "stream",
     "text": [
      "Mary #always #stood fir#st in #class\n"
     ]
    }
   ],
   "source": [
    "a = \"Mary @always &stood fir!st in %class\"\n",
    "for i in string.punctuation: \n",
    "    a=a.replace(i,\"#\")\n",
    "print(a)"
   ]
  },
  {
   "cell_type": "markdown",
   "id": "e4f86e42",
   "metadata": {},
   "source": [
    "10. Write a program that takes a sentence as an input parameter where each word in the sentence is separated by a space. Then replace each blank with a hyphen and then print the modified sentence."
   ]
  },
  {
   "cell_type": "code",
   "execution_count": 65,
   "id": "eabaa5ce",
   "metadata": {},
   "outputs": [
    {
     "name": "stdout",
     "output_type": "stream",
     "text": [
      "String:jv fjg\n"
     ]
    },
    {
     "data": {
      "text/plain": [
       "'jv-fjg'"
      ]
     },
     "execution_count": 65,
     "metadata": {},
     "output_type": "execute_result"
    }
   ],
   "source": [
    "a = input(\"String:\")\n",
    "s =''\n",
    "for i in a:\n",
    "    if i!=' ':\n",
    "       s+=i\n",
    "    else:\n",
    "        s+='-'\n",
    "s"
   ]
  },
  {
   "cell_type": "markdown",
   "id": "41889352",
   "metadata": {},
   "source": []
  }
 ],
 "metadata": {
  "kernelspec": {
   "display_name": "Python 3 (ipykernel)",
   "language": "python",
   "name": "python3"
  },
  "language_info": {
   "codemirror_mode": {
    "name": "ipython",
    "version": 3
   },
   "file_extension": ".py",
   "mimetype": "text/x-python",
   "name": "python",
   "nbconvert_exporter": "python",
   "pygments_lexer": "ipython3",
   "version": "3.11.5"
  }
 },
 "nbformat": 4,
 "nbformat_minor": 5
}
