{
 "cells": [
  {
   "cell_type": "code",
   "execution_count": 13,
   "id": "6bd95324-0300-4154-9dd5-10386ed692bb",
   "metadata": {},
   "outputs": [
    {
     "name": "stdout",
     "output_type": "stream",
     "text": [
      "[('Anish', 'Sharma', 'I011'), ('XYZ', 'Sharma', '2011')]\n"
     ]
    }
   ],
   "source": [
    "class Student():\n",
    "    def __init__(self,fname,lname,uid):\n",
    "        self.fname = fname\n",
    "        self.lname = lname\n",
    "        self.uid = uid\n",
    "\n",
    "    def __repr__(self):\n",
    "        return str((self.fname, self.lname,self.uid))\n",
    "        \n",
    "\n",
    "lst = [Student(\"Anish\",\"Sharma\",\"I011\"),\n",
    "Student(\"XYZ\",\"Sharma\",\"2011\")]\n",
    "\n",
    "print(sorted(lst, key=lambda x: x.fname)) \n",
    "\n"
   ]
  },
  {
   "cell_type": "code",
   "execution_count": 17,
   "id": "88aaecda-3343-4579-8a16-11fc05b32144",
   "metadata": {},
   "outputs": [
    {
     "name": "stdout",
     "output_type": "stream",
     "text": [
      "[('Earth', 3400, 9.8), ('Mars', 12000, 8.8)]\n"
     ]
    }
   ],
   "source": [
    "class Planet():\n",
    "    def __init__(self,name,distance,gravity):\n",
    "        self.name = name\n",
    "        self.distance = distance\n",
    "        self.gravity = gravity\n",
    "    def __repr__(self):\n",
    "        return str((self.name,self.distance,self.gravity))\n",
    "\n",
    "lst = [\n",
    "    Planet(\"Mars\",12000,8.8),\n",
    "    Planet(\"Earth\",3400,9.8)\n",
    "]\n",
    "\n",
    "print(sorted(lst,key = lambda x:x.name))"
   ]
  },
  {
   "cell_type": "code",
   "execution_count": 20,
   "id": "51368505-b891-4451-8570-240b92a10eef",
   "metadata": {},
   "outputs": [
    {
     "name": "stdout",
     "output_type": "stream",
     "text": [
      "[('Anish', 'Sharma', 100000), ('Manish', 'Sharma', 2000000)]\n"
     ]
    }
   ],
   "source": [
    "class BankCustomer():\n",
    "    def __init__(self,fname,lname,balance):\n",
    "        self.fname = fname\n",
    "        self.lname = lname\n",
    "        self.balance = balance\n",
    "    def __repr__(self):\n",
    "        return str((self.fname,self.lname,self.balance))\n",
    "\n",
    "lst = [\n",
    "    BankCustomer(\"Anish\",\"Sharma\",100000),\n",
    "    BankCustomer(\"Manish\",\"Sharma\",2000000)\n",
    "]\n",
    "\n",
    "print(sorted(lst, key = lambda x:x.balance))"
   ]
  },
  {
   "cell_type": "code",
   "execution_count": 24,
   "id": "6a2a1b7a-748c-4d93-ba5f-3eed99fdacf5",
   "metadata": {},
   "outputs": [
    {
     "name": "stdout",
     "output_type": "stream",
     "text": [
      "Overlap\n"
     ]
    }
   ],
   "source": [
    "class Airline():\n",
    "    def __init__(self,dep,arr,flight,seatNo):\n",
    "        self.dep = dep\n",
    "        self.arr = arr\n",
    "        self.flight = flight\n",
    "        self.seatNo = seatNo\n",
    "    def __repr__(self):\n",
    "        return str((self.dep,self.arr,self.flight,self.seatNo))\n",
    "\n",
    "\n",
    "p1 = Airline(\"Mumbai\",\"Goa\",12,\"13F\")\n",
    "p2 = Airline(\"Mumbai\",\"Goa\",34,\"13F\")\n",
    "\n",
    "if (p1.seatNo == p2.seatNo):\n",
    "    print(\"Overlap\")\n",
    "else:\n",
    "    print(\"Seat is not overlap\")"
   ]
  },
  {
   "cell_type": "code",
   "execution_count": 25,
   "id": "ea6ff2c1-18a6-4667-ab23-229f784b8ba4",
   "metadata": {},
   "outputs": [
    {
     "name": "stdout",
     "output_type": "stream",
     "text": [
      "Seat is not overlap\n"
     ]
    }
   ],
   "source": [
    "class Airline():\n",
    "    def __init__(self,dep,arr,flight,seatNo):\n",
    "        self.dep = dep\n",
    "        self.arr = arr\n",
    "        self.flight = flight\n",
    "        self.seatNo = seatNo\n",
    "    def __repr__(self):\n",
    "        return str((self.dep,self.arr,self.flight,self.seatNo))\n",
    "\n",
    "\n",
    "p1 = Airline(\"Mumbai\",\"Goa\",12,\"13F\")\n",
    "p2 = Airline(\"Mumbai\",\"Goa\",34,\"13D\")\n",
    "\n",
    "if (p1.seatNo == p2.seatNo):\n",
    "    print(\"Overlap\")\n",
    "else:\n",
    "    print(\"Seat is not overlap\")"
   ]
  },
  {
   "cell_type": "code",
   "execution_count": 29,
   "id": "4e65ec96-7d3b-4fba-84da-ec0a0eb2d925",
   "metadata": {},
   "outputs": [
    {
     "name": "stdout",
     "output_type": "stream",
     "text": [
      "In A\n",
      "In B\n"
     ]
    }
   ],
   "source": [
    "class A():\n",
    "    def printA(self):\n",
    "        print(\"In A\")\n",
    "class B(A):\n",
    "    def printB(self):\n",
    "        print(\"In B\")\n",
    "b = B()\n",
    "b.printA()\n",
    "b.printB()"
   ]
  },
  {
   "cell_type": "code",
   "execution_count": null,
   "id": "8e160dd2-3dfe-4304-b2dd-71133ab05edd",
   "metadata": {},
   "outputs": [],
   "source": []
  }
 ],
 "metadata": {
  "kernelspec": {
   "display_name": "Python 3 (ipykernel)",
   "language": "python",
   "name": "python3"
  },
  "language_info": {
   "codemirror_mode": {
    "name": "ipython",
    "version": 3
   },
   "file_extension": ".py",
   "mimetype": "text/x-python",
   "name": "python",
   "nbconvert_exporter": "python",
   "pygments_lexer": "ipython3",
   "version": "3.9.18"
  }
 },
 "nbformat": 4,
 "nbformat_minor": 5
}
